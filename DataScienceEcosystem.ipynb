{
 "cells": [
  {
   "cell_type": "markdown",
   "id": "0335acf1",
   "metadata": {},
   "source": [
    "# Data Science Tools and Ecosystem"
   ]
  },
  {
   "cell_type": "markdown",
   "id": "12947a78",
   "metadata": {},
   "source": [
    "In this notebook, Data Science Tools and Ecosystem are summarized."
   ]
  },
  {
   "cell_type": "markdown",
   "id": "8ce6777a",
   "metadata": {},
   "source": [
    "**Objectives:**\n",
    "\n",
    "- List popular programming languages for Data Science.\n",
    "- Introduce commonly used libraries in Data Science.\n",
    "- Demonstrate how to create a table in a Markdown cell.\n",
    "- Explain how to align a table to the left in a Markdown cell.\n",
    "- Create a single-column table in Markdown.\n"
   ]
  },
  {
   "cell_type": "markdown",
   "id": "a0f11b09",
   "metadata": {},
   "source": [
    "Some of the popular languages that Data Scientists are:\n",
    "(i) Python\n",
    "(ii) R\n",
    "(iii) Java"
   ]
  },
  {
   "cell_type": "markdown",
   "id": "0c9a0476",
   "metadata": {},
   "source": [
    "Some of the commonly used libraries used by Data Scientists include:\n",
    "\n",
    "(i) NumPy\n",
    "(ii) pandas\n",
    "(iii) Matplotlib\n",
    "(iV) Seaborn\n",
    "(v) scikit-learn\n",
    "(vi) TensorFlow\n",
    "(vii) ggplot2\n",
    "(viii) dplyr\n",
    "(iX) tidyr\n",
    "(X) caret\n",
    "(Xi)lubridate\n",
    "(Xii) xgboost\n",
    "(Xiii) randomFores"
   ]
  },
  {
   "cell_type": "markdown",
   "id": "8c1ddb70",
   "metadata": {},
   "source": [
    "| Data Science Tools        |\n",
    "|:--------------------------|\n",
    "| Jupyter Notebook          |\n",
    "| RStudio                   |\n",
    "| Visual Studio Code (VSCode)|\n"
   ]
  },
  {
   "cell_type": "markdown",
   "id": "000bd382",
   "metadata": {},
   "source": [
    "### Below are a few examples of evaluating arithmetic expressions in Python"
   ]
  },
  {
   "cell_type": "code",
   "execution_count": 2,
   "id": "6f2d2b10",
   "metadata": {},
   "outputs": [
    {
     "data": {
      "text/plain": [
       "17"
      ]
     },
     "execution_count": 2,
     "metadata": {},
     "output_type": "execute_result"
    }
   ],
   "source": [
    "#This a simple arithmetic expression to multiply then add integres\n",
    "(3*4)+5"
   ]
  },
  {
   "cell_type": "code",
   "execution_count": 3,
   "id": "c9cdbf4d",
   "metadata": {},
   "outputs": [
    {
     "name": "stdout",
     "output_type": "stream",
     "text": [
      "3.3333333333333335\n"
     ]
    }
   ],
   "source": [
    "#This will convert 200 minutes to hours by dividing by 60\n",
    "\n",
    "minutes=200\n",
    "hours=minutes/60\n",
    "print(hours)"
   ]
  },
  {
   "cell_type": "markdown",
   "id": "8277d177",
   "metadata": {},
   "source": [
    "## Author\n",
    "Mushtaq Ahmad\n"
   ]
  },
  {
   "cell_type": "code",
   "execution_count": null,
   "id": "e20f8330",
   "metadata": {},
   "outputs": [],
   "source": []
  }
 ],
 "metadata": {
  "kernelspec": {
   "display_name": "Python 3 (ipykernel)",
   "language": "python",
   "name": "python3"
  },
  "language_info": {
   "codemirror_mode": {
    "name": "ipython",
    "version": 3
   },
   "file_extension": ".py",
   "mimetype": "text/x-python",
   "name": "python",
   "nbconvert_exporter": "python",
   "pygments_lexer": "ipython3",
   "version": "3.11.4"
  }
 },
 "nbformat": 4,
 "nbformat_minor": 5
}
